{
 "cells": [
  {
   "cell_type": "code",
   "execution_count": 1,
   "id": "49bb8d6e",
   "metadata": {},
   "outputs": [],
   "source": [
    "# imports\n",
    "from collections import Counter\n",
    "from itertools import permutations, product\n",
    "\n",
    "import numpy as np\n",
    "from scipy.stats import beta, bernoulli, binom, betabinom\n",
    "import matplotlib.pyplot as plt\n",
    "\n",
    "%matplotlib inline"
   ]
  },
  {
   "cell_type": "code",
   "execution_count": 2,
   "id": "777409a4",
   "metadata": {},
   "outputs": [],
   "source": [
    "# set some constants\n",
    "M, N, K = 10, 5, 2 # number of agents, choice trials, clusters\n",
    "a, b = 1/3, 1/3 # parameters of beta prior\n",
    "z_true = np.array([0, 0, 0, 0, 0, 1, 1, 1, 1, 1]) # ground truth group assignments\n",
    "theta_true = np.array([0.1, 0.9]) # ground truth latent group parameters"
   ]
  },
  {
   "cell_type": "code",
   "execution_count": 3,
   "id": "756bec61",
   "metadata": {},
   "outputs": [],
   "source": [
    "# generate observed choice history\n",
    "O = np.zeros((M, N))\n",
    "for i in range(M):\n",
    "    O[i] = (np.random.random(size=(N)) < theta_true[z_true[i]]).astype(int)"
   ]
  },
  {
   "cell_type": "code",
   "execution_count": 4,
   "id": "6f07d5e7",
   "metadata": {},
   "outputs": [],
   "source": [
    "def crp(z):\n",
    "    return 1\n",
    "\n",
    "# compute likelihood of observed choices given partition z AND parameters theta\n",
    "def conditional_likelihood(z, theta):\n",
    "    counts = Counter(z)\n",
    "    return np.prod([np.prod(binom.pmf(np.sum(O[z==k], axis=0), counts[k], theta[k])) for k in range(K)])\n",
    "\n",
    "def conditional_likelihood_2(z, theta):\n",
    "    return np.prod([np.prod(binom.pmf(np.sum(O[z==k], axis=1), N, theta[k])) for k in range(K)])\n",
    "\n",
    "# compute likelihood of observed choices given partition z\n",
    "def likelihood(z, a=a, b=b):\n",
    "    totals = Counter(z)\n",
    "    return np.prod([np.prod(betabinom.pmf(np.sum(O[z==k], axis=0), totals[k], a, b)) for k in range(K)])\n",
    "\n",
    "def likelihood_2(z, a=a, b=b):\n",
    "    return np.prod([np.prod(betabinom.pmf(np.sum(O[z==k], axis=1), N, a, b)) for k in range(K)])\n",
    "    "
   ]
  },
  {
   "cell_type": "code",
   "execution_count": 5,
   "id": "71174ae6",
   "metadata": {},
   "outputs": [],
   "source": [
    "# helper function to generate parameter values\n",
    "def generate_parameters(start, stop, step):\n",
    "    tmp = np.arange(start, stop+step, step)\n",
    "    return [list(pair) for pair in product(tmp, repeat=2)]\n",
    "\n",
    "def numerical_marginalise(z, a, b, start, stop, step):\n",
    "    thetas = generate_parameters(start=start, stop=stop, step=step)\n",
    "    theta_priors = np.array([np.prod(beta.pdf(theta, a, b)) for theta in thetas])\n",
    "    cond_likelihoods = np.array([conditional_likelihood(z, theta) for theta in thetas])\n",
    "    return np.dot(cond_likelihoods, theta_priors)\n",
    "\n",
    "def numerical_posterior(partitions, a=a, b=b, start=0.05, stop=0.95, step=0.05):\n",
    "    likelihoods = np.array(\n",
    "        [numerical_marginalise(z, a=a, b=b, start=start, stop=stop, step=step) for z in partitions]\n",
    "    )\n",
    "    z_priors = np.array([crp(z) for z in partitions])\n",
    "    probabilities = np.dot(likelihoods, z_priors)\n",
    "    return probabilities / np.sum(probabilities)\n",
    "\n",
    "def analytic_posterior(partitions, a=a, b=b):\n",
    "    likelihoods = np.array([likelihood(z, a=a, b=b) for z in partitions])\n",
    "    z_priors = np.array([crp(z) for z in partitions])\n",
    "    probabilities = np.dot(likelihoods, z_priors)\n",
    "    return probabilities / np.sum(probabilities)"
   ]
  },
  {
   "cell_type": "code",
   "execution_count": 6,
   "id": "629d3193",
   "metadata": {},
   "outputs": [],
   "source": [
    "# helper function to generate all possible partitions\n",
    "# returns a list of length 2^(M/2)\n",
    "\n",
    "def generate_all_partitions():\n",
    "    partitions = set()\n",
    "    for i in range(1, M):\n",
    "        base = ([0] * i) + ([1] * (M - i))\n",
    "        partitions = partitions.union(set(permutations(base)))\n",
    "    return np.array([list(z) for z in partitions])\n",
    "\n",
    "partitions = generate_all_partitions()\n"
   ]
  },
  {
   "cell_type": "code",
   "execution_count": 7,
   "id": "6ab164d2",
   "metadata": {},
   "outputs": [],
   "source": [
    "# numerical_probs = numerical_posterior(partitions)\n",
    "analytic_probs = analytic_posterior(partitions)"
   ]
  },
  {
   "cell_type": "code",
   "execution_count": 8,
   "id": "0c573a7f",
   "metadata": {},
   "outputs": [
    {
     "data": {
      "text/plain": [
       "[<matplotlib.lines.Line2D at 0x7fe27c36a990>]"
      ]
     },
     "execution_count": 8,
     "metadata": {},
     "output_type": "execute_result"
    },
    {
     "data": {
      "image/png": "[encoded data removed]",
      "text/plain": [
       "<Figure size 640x480 with 1 Axes>"
      ]
     },
     "metadata": {},
     "output_type": "display_data"
    },
    {
     "data": {
      "image/png": "[encoded data removed]",
      "text/plain": [
       "<Figure size 640x480 with 1 Axes>"
      ]
     },
     "metadata": {},
     "output_type": "display_data"
    }
   ],
   "source": [
    "# fig1 = plt.figure()\n",
    "# plt.plot(numerical_probs)\n",
    "# fig2 = plt.figure()\n",
    "# plt.plot(analytic_probs)"
   ]
  },
  {
   "cell_type": "code",
   "execution_count": 9,
   "id": "ac6100b4",
   "metadata": {},
   "outputs": [
    {
     "name": "stdout",
     "output_type": "stream",
     "text": [
      "[1 1 1 1 1 0 0 0 0 0]: 0.4953067685639671\n",
      "[0 0 0 0 0 1 1 1 1 1]: 0.4953067685639671\n",
      "[1 1 1 1 0 0 0 0 0 0]: 0.002665751964739149\n",
      "[0 0 0 0 1 1 1 1 1 1]: 0.002665751964739149\n",
      "[1 1 1 1 1 0 0 0 0 1]: 0.0008641405321518406\n",
      "[0 0 0 0 0 1 1 1 1 0]: 0.0008641405321518406\n",
      "[1 1 1 1 1 0 0 0 1 0]: 0.0008641405321518406\n",
      "[0 0 0 0 0 1 1 1 0 1]: 0.0008641405321518406\n",
      "[1 0 0 0 0 1 1 1 1 1]: 4.960045260703109e-05\n",
      "[0 0 1 0 0 1 1 1 1 1]: 4.960045260703109e-05\n",
      "-------------------\n",
      "[1 1 1 1 1 0 0 0 0 0]: 0.3539955888288367\n",
      "[0 0 0 0 0 1 1 1 1 1]: 0.3539955888288367\n",
      "[1 1 1 1 0 0 0 0 0 0]: 0.039652092375867524\n",
      "[0 0 0 0 1 1 1 1 1 1]: 0.039652092375867524\n",
      "[1 1 1 1 1 0 0 0 0 1]: 0.013878232331553645\n",
      "[0 0 0 0 0 1 1 1 0 1]: 0.013878232331553645\n",
      "[1 1 1 1 1 0 0 0 1 0]: 0.013878232331553645\n",
      "[0 0 0 0 0 1 1 1 1 0]: 0.013878232331553645\n",
      "[0 0 0 0 0 1 1 1 0 0]: 0.005384125624892051\n",
      "[1 1 1 1 1 0 0 0 1 1]: 0.005384125624892051\n"
     ]
    }
   ],
   "source": [
    "def print_top_k_partitions(probs, k):\n",
    "    idxs = probs.argsort()[-10:][::-1]\n",
    "    for i in idxs:\n",
    "        print(f\"{partitions[i]}: {probs[i]}\")\n",
    "        \n",
    "# print_top_k_partitions(numerical_probs, 10)\n",
    "# print(\"-------------------\")\n",
    "print_top_k_partitions(analytic_probs, 10)"
   ]
  },
  {
   "cell_type": "code",
   "execution_count": null,
   "id": "ba6a10ba",
   "metadata": {},
   "outputs": [],
   "source": []
  }
 ],
 "metadata": {
  "kernelspec": {
   "display_name": "Python 3 (ipykernel)",
   "language": "python",
   "name": "python3"
  },
  "language_info": {
   "codemirror_mode": {
    "name": "ipython",
    "version": 3
   },
   "file_extension": ".py",
   "mimetype": "text/x-python",
   "name": "python",
   "nbconvert_exporter": "python",
   "pygments_lexer": "ipython3",
   "version": "3.7.13"
  }
 },
 "nbformat": 4,
 "nbformat_minor": 5
}
